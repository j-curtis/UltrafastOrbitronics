{
 "cells": [
  {
   "cell_type": "code",
   "execution_count": 1,
   "id": "9ca8be93",
   "metadata": {},
   "outputs": [],
   "source": [
    "import numpy as np\n",
    "from matplotlib import pyplot as plt\n",
    "from scipy import integrate as intg\n",
    "from scipy import optimize as opt"
   ]
  },
  {
   "cell_type": "code",
   "execution_count": 2,
   "id": "e01cfb78",
   "metadata": {},
   "outputs": [],
   "source": [
    "### Single subspace representations of spin and angular momentum operators\n",
    "svec = [0.5*np.array([[0.,1.],[1.,0.]],dtype=complex), 0.5*np.array([[0.,-1.j],[1.j,0.]],dtype=complex), 0.5*np.array([[1.,0.],[0.,-1.]],dtype=complex) ]\n",
    "lvec = [np.sqrt(0.5)*np.array([[0.,1.,0.],[1.,0.,1.],[0.,1.,0.]],dtype=complex),np.sqrt(0.5)*np.array([[0.,-1.j,0.],[1.j,0.,-1.j],[0.,1.j,0.]],dtype=complex),np.array([[1.,0.,0.],[0.,0.,0.],[0.,0.,-1.]],dtype=complex)]\n",
    "\n",
    "### Kronecker product for single-site spin-angular momentum algebra \n",
    "svec_op = [np.kron(svec[i],np.eye(3,dtype=complex)) for i in range(3)]\n",
    "lvec_op = [np.kron(np.eye(2,dtype=complex),lvec[i]) for i in range(3)]\n",
    "\n",
    "### Single-site identity operator\n",
    "one6 = np.eye(6,dtype=complex)\n",
    "\n",
    "### We construct a tensor-product set of operators for two sites \n",
    "### We start with the L1.L2 operator\n",
    "l1 = [np.kron(lvec_op[i],one6) for i in range(3)]\n",
    "l2 = [np.kron(one6,lvec_op[i]) for i in range(3)]\n",
    "\n",
    "l1l2 = sum([l1[i]@l2[i] for i in range(3)])\n",
    "\n",
    "### Now we do the S1.S2 operator\n",
    "s1 = [np.kron(svec_op[i],one6) for i in range(3)]\n",
    "s2 = [np.kron(one6,svec_op[i]) for i in range(3)]\n",
    "\n",
    "s1s2 = sum([s1[i]@s2[i] for i in range(3)])\n",
    "\n",
    "### Two site identity operator\n",
    "one36 = np.kron(one6,one6)\n",
    "\n",
    "### Now we construct the various projection operators for the angular momentum\n",
    "proj_s = 1./3.*( l1l2@l1l2 - one36 )\n",
    "proj_p = one36 - 0.5*l1l2 - 0.5*l1l2@l1l2\n",
    "proj_d = 1./3.*one36 + 0.5*l1l2 + 1./6.*l1l2@l1l2\n",
    "\n",
    "### Spin parity operator S1.S2 + 1/4\n",
    "sparity = s1s2 + 1./4.*one36\n"
   ]
  },
  {
   "cell_type": "code",
   "execution_count": 3,
   "id": "fa597976",
   "metadata": {},
   "outputs": [],
   "source": [
    "### Given an overall superexchange J0 and Hund's coupling ratio eta this returns the different superexchange interaction strengths\n",
    "def jmultiplet(j0,eta):\n",
    "    return j0/(1.+2.*eta), j0/(1.-3.*eta), j0/(1.-eta)\n",
    "\n",
    "### Returns spin-orbit hamiltonian for pair of sites\n",
    "def hsoc(soc):\n",
    "    return soc*sum([s1[i]@l1[i] + s2[i]@l2[i] for i in range(3)])\n",
    "\n",
    "### Returns crystal field hamiltonian for pair of sites\n",
    "### Accepts three eigevalues for crystal field parameters (one is redundant)\n",
    "def hcf(cfs1,cfs2):\n",
    "    return sum([ 0.5*cfs1[i]*l1[i]@l1[i]  + 0.5*cfs2[i]*l2[i]@l2[i] for i in range(3)])\n",
    "\n",
    "### Returns superexchange Hamiltonian for pair of sites given superexchange parameters J0 and eta\n",
    "### z is coordination number of the lattice (we assume default of 6)\n",
    "def hsex(j0,eta,z=6):\n",
    "    js,jp,jd = jmultiplet(j0,eta)\n",
    "    \n",
    "    jop = js * proj_s - jp*proj_p + jd*proj_d\n",
    "    kop = -js*proj_s - jp*proj_p - jd*proj_d\n",
    "    \n",
    "    return z*sparity@jop + 0.5*z*kop\n",
    "\n",
    "### Returns total Hamiltonian \n",
    "def ham(j0,eta,cfs1,cfs2,soc,z=6):\n",
    "    return hsex(j0,eta,z)+hcf(cfs1,cfs2)+hsoc(soc)\n",
    "    "
   ]
  },
  {
   "cell_type": "code",
   "execution_count": 4,
   "id": "467c02f8",
   "metadata": {},
   "outputs": [],
   "source": [
    "### This will make a variational wavefunction in terms of angle parameters\n",
    "### It returns the tensor product wavefunction for the A and B sites \n",
    "### The ansatz is a mean-field product state\n",
    "### The parameters are passed as ps, a combined list for both sublattices\n",
    "def product_ansatz_angles(ps):\n",
    "    \n",
    "    ### p is a list of 2x(5 + 5) = 20 parameters (5 phases and 5 amplitudes)\n",
    "    ### First we split in to the two sublattices\n",
    "    p = [ ps[:10],ps[10:] ]\n",
    "    \n",
    "    ### For each site we use the following for coefficients\n",
    "    ### p[0:5] are amplitude angles and p[5:10] are phase angles\n",
    "    ### p[0] is restricted to [0,pi)\n",
    "    psi = [ np.array([\n",
    "        np.cos(p[i][0]), \n",
    "        np.sin(p[i][0])*np.cos(p[i][1])*np.exp(1.j*p[i][5]),\n",
    "        np.sin(p[i][0])*np.sin(p[i][1])*np.cos(p[i][2])*np.exp(1.j*p[i][6]),\n",
    "        np.sin(p[i][0])*np.sin(p[i][1])*np.sin(p[i][2])*np.cos(p[i][3])*np.exp(1.j*p[i][7]),\n",
    "        np.sin(p[i][0])*np.sin(p[i][1])*np.sin(p[i][2])*np.sin(p[i][3])*np.cos(p[i][4])*np.exp(1.j*p[i][8]),\n",
    "        np.sin(p[i][0])*np.sin(p[i][1])*np.sin(p[i][2])*np.sin(p[i][3])*np.sin(p[i][4])*np.exp(1.j*p[i][9])\n",
    "    ]) for i in range(2) ]\n",
    "\n",
    "    return np.kron(psi[0],psi[1])\n",
    "\n",
    "def mean_energy_angles(ps,h):\n",
    "    wf = product_ansatz_angles(ps)\n",
    "    \n",
    "    return np.conjugate(wf)@h@wf\n",
    "\n",
    "def find_gs_angles(h):\n",
    "    ps0 = np.random.ranf(20)*np.pi\n",
    "    x0 = product_ansatz_angles(ps0)\n",
    "    \n",
    "    f = lambda x: mean_energy_angles(x,h)\n",
    "    \n",
    "    niter = 50\n",
    "    \n",
    "    res = opt.basinhopping(f,x0,niter)\n",
    "    \n",
    "    return res\n",
    "\n",
    "\n",
    "### Here we will generate ansatz by specifying wavefunction amplitudes and then normalizing only in the energy evaluation\n",
    "### This will explore parameter space in a more unbiased way\n",
    "### This will make a variational wavefunction in terms of angle parameters\n",
    "### It returns the tensor product wavefunction for the A and B sites \n",
    "### The ansatz is a mean-field product state\n",
    "### The parameters are passed as ps, a combined list for both sublattices\n",
    "def product_ansatz(z):\n",
    "    \n",
    "    ### z is a list of 12 complex parameters \n",
    "    ### First we split in to the two sublattices\n",
    "    zs = [ z[:6],z[6:] ]\n",
    "    \n",
    "    ### We now simply need to normalize the site wavefunctions\n",
    "    psis = [ zs[i]/np.sqrt(np.conjugate(zs[i])@zs[i]) for i in range(2)]\n",
    "\n",
    "    psi = np.kron(psis[0],psis[1])\n",
    "    \n",
    "    return psi \n",
    "\n",
    "def randomWF():\n",
    "    ### Returns a random product state wavefunction\n",
    "    z = np.random.ranf(12) + np.random.ranf(12)*1.j\n",
    "\n",
    "    return product_ansatz(z)\n",
    "\n",
    "def mean_energy(z,h):\n",
    "    wf = product_ansatz(z)\n",
    "    \n",
    "    return np.real(np.conjugate(wf)@h@wf)\n",
    "\n",
    "def find_gs(h):\n",
    "    x0 = np.random.ranf(12) + 1.j*np.random.ranf(12)\n",
    "    \n",
    "    f = lambda x: mean_energy(x,h)\n",
    "    \n",
    "    niter = 200\n",
    "    \n",
    "    res = opt.basinhopping(f,x0,niter)\n",
    "    \n",
    "    return res\n",
    "\n",
    "def mean_mags(z):\n",
    "    wf = product_ansatz(z)\n",
    "    \n",
    "    m1 = np.array([ np.real(np.conjugate(wf)@s1[i]@wf) for i in range(3) ])\n",
    "    m2 = np.array([ np.real(np.conjugate(wf)@s2[i]@wf) for i in range(3) ])\n",
    "    \n",
    "    return m1,m2\n"
   ]
  },
  {
   "cell_type": "code",
   "execution_count": 7,
   "id": "1d259cf2",
   "metadata": {
    "scrolled": false
   },
   "outputs": [
    {
     "data": {
      "image/png": "[encoded data removed]",
      "text/plain": [
       "<Figure size 432x288 with 1 Axes>"
      ]
     },
     "metadata": {
      "needs_background": "light"
     },
     "output_type": "display_data"
    },
    {
     "name": "stderr",
     "output_type": "stream",
     "text": [
      "/usr/lib/python3/dist-packages/scipy/optimize/_differentiable_functions.py:107: ComplexWarning: Casting complex values to real discards the imaginary part\n",
      "  self.x = np.atleast_1d(x0).astype(float)\n",
      "/usr/lib/python3/dist-packages/scipy/optimize/_differentiable_functions.py:243: ComplexWarning: Casting complex values to real discards the imaginary part\n",
      "  self.x = np.atleast_1d(x).astype(float)\n",
      "/usr/lib/python3/dist-packages/scipy/optimize/_linesearch.py:155: ComplexWarning: Casting complex values to real discards the imaginary part\n",
      "  stp, phi1, derphi1, task = minpack2.dcsrch(alpha1, phi1, derphi1,\n"
     ]
    },
    {
     "name": "stdout",
     "output_type": "stream",
     "text": [
      "-74.93939683883406\n",
      "(array([ 0.48560931, -0.00316401, -0.00061282]), array([4.41359952e-01, 5.80032081e-02, 1.28437323e-04]))\n"
     ]
    }
   ],
   "source": [
    "j0 = 4.### meV\n",
    "eta = 0.14 ### J_H/U\n",
    "cf1s = np.array([-50.,50.,0.]) ### meV\n",
    "cf2s = np.array([50.,-50.,0.]) ### meV\n",
    "soc = 12.### meV\n",
    "\n",
    "h = ham(j0,eta,cf1s,cf2s,soc)\n",
    "\n",
    "gs = find_gs(h)\n",
    "print(gs.fun)\n",
    "print(mean_mags(gs.x))"
   ]
  },
  {
   "cell_type": "code",
   "execution_count": 21,
   "id": "91919e8f",
   "metadata": {},
   "outputs": [],
   "source": [
    "### Now we would like to implement dynamics given this wavefunction\n",
    "### This will be done using the time-dependent mean-field equation of motion\n",
    "### Given h as a full matrix operator we evaluate the effective single-site Hamiltonians for use with the integrator\n",
    "### The equations of motion read i d/dt psiA x psiB = H psiA x psiB = (id/dt psiA)x psiB + psiAx(id/dt psiB) = H psiA x psiB\n",
    "### This therefore needs the two partial traces \n",
    "### (psiB H psiB) acting on psiA and psiA H psiA acting on psiB \n",
    "### We can obtain these by brute force computing the matrix elements and expanding in a basis\n",
    "### (psiB | H | psiA x psiB) = sum_j e_j ( e_j x psiB | H | psiA x psiB) and so on\n",
    "def MF_eom(h,z):\n",
    "    ### h is a matrix which acts on both sites and is therefore 36 x 36 \n",
    "    ### z is assumed to be a set of variational parameters of the form [psiA, psiB] passed as ansatz parameters and is therefore two sets of 6 complex numbers\n",
    "    mfh = np.zeros(12,dtype=complex)\n",
    "    \n",
    "    for j in range(6):\n",
    "        mfh[j] = np.conj(np.kron(np.eye(1,6,j,dtype=complex),z[6:]))@h@product_ansatz(z)\n",
    "        mfh[j+6] = np.conj(np.kron(z[:6],np.eye(1,6,j,dtype=complex)))@h@product_ansatz(z)\n",
    "        \n",
    "    ### This should return a result of the form [ [..., <psiB|] .H.psi , [<psiA|,...].psi ] \n",
    "    \n",
    "    ### This should return the mean-field equations of motion for the single-site wavefunction parameters \n",
    "    ### It is dz/dt = -i MF_Hamiltonian . z where MF_Hamiltonian is obtained by the partial trace procedure above\n",
    "    return -1.j*mfh\n",
    "    "
   ]
  },
  {
   "cell_type": "code",
   "execution_count": 24,
   "id": "8ce98f86",
   "metadata": {},
   "outputs": [
    {
     "data": {
      "text/plain": [
       "array([ -6.93747956+333.01308911j, -23.55545919-133.5287092j ,\n",
       "       -28.78803718+422.22459377j,  -9.2255019 +425.08058503j,\n",
       "       -26.15029371-132.84661178j, -26.25358378+329.90722781j,\n",
       "       -21.21988029-424.69017978j, -53.65818118+151.96040185j,\n",
       "        17.38240175+538.34136262j,  -3.32359321-541.29513947j,\n",
       "       -47.78996485-148.07010602j,  -5.24579474+421.70445546j])"
      ]
     },
     "execution_count": 24,
     "metadata": {},
     "output_type": "execute_result"
    }
   ],
   "source": [
    "MF_eom(h,gs.x)"
   ]
  },
  {
   "cell_type": "code",
   "execution_count": null,
   "id": "cd2f86bc",
   "metadata": {},
   "outputs": [],
   "source": []
  }
 ],
 "metadata": {
  "kernelspec": {
   "display_name": "Python 3 (ipykernel)",
   "language": "python",
   "name": "python3"
  },
  "language_info": {
   "codemirror_mode": {
    "name": "ipython",
    "version": 3
   },
   "file_extension": ".py",
   "mimetype": "text/x-python",
   "name": "python",
   "nbconvert_exporter": "python",
   "pygments_lexer": "ipython3",
   "version": "3.10.12"
  }
 },
 "nbformat": 4,
 "nbformat_minor": 5
}
